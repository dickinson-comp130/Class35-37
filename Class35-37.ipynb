{
 "cells": [
  {
   "cell_type": "markdown",
   "metadata": {},
   "source": [
    "# Class 35-37 - Dictionaries  \n",
    "**COMP130 - Introduction to Computing**  \n",
    "**Dickinson College**  "
   ]
  },
  {
   "cell_type": "markdown",
   "metadata": {},
   "source": [
    "### Names:"
   ]
  },
  {
   "cell_type": "markdown",
   "metadata": {},
   "source": []
  },
  {
   "cell_type": "markdown",
   "metadata": {},
   "source": [
    "### Dictionary Basics"
   ]
  },
  {
   "cell_type": "markdown",
   "metadata": {},
   "source": [
    "Consider the code below:"
   ]
  },
  {
   "cell_type": "code",
   "execution_count": null,
   "metadata": {
    "deletable": false,
    "editable": false
   },
   "outputs": [],
   "source": [
    "offices = dict()\n",
    "offices['Braught'] = 'Tome 234'\n",
    "offices['Skalak'] = 'Tome 246'\n",
    "offices['Siddiqui'] = 'Tome 229'\n",
    "offices['MacCormick'] = \"Toluse France\"\n",
    "offices['Fructer'] = 'Rector North 2312'"
   ]
  },
  {
   "cell_type": "markdown",
   "metadata": {},
   "source": [
    "__Q1:__ Dictionaries map *keys* to *values*. Are professor names the keys or values in the `offices` dictionary?  Are office locations the keys or values in the `offices` dictionary?"
   ]
  },
  {
   "cell_type": "markdown",
   "metadata": {},
   "source": []
  },
  {
   "cell_type": "markdown",
   "metadata": {},
   "source": [
    "__Q2:__ Draw an state diagram for the code above showing the `offices` dictionary.  Include a picture of your diagram as your answer to this question."
   ]
  },
  {
   "cell_type": "markdown",
   "metadata": {},
   "source": []
  },
  {
   "cell_type": "markdown",
   "metadata": {},
   "source": [
    "__Q3:__ Write a statement that prints Prof. Braught's office number."
   ]
  },
  {
   "cell_type": "code",
   "execution_count": null,
   "metadata": {},
   "outputs": [],
   "source": []
  },
  {
   "cell_type": "markdown",
   "metadata": {},
   "source": [
    "__Q4:__ Write statements that adds Prof. Whitmore to the dictionary with an office in 'Rector North 2312' and then displays the dictionary."
   ]
  },
  {
   "cell_type": "code",
   "execution_count": null,
   "metadata": {},
   "outputs": [],
   "source": []
  },
  {
   "cell_type": "markdown",
   "metadata": {},
   "source": [
    "__Q5:__ Write statements that change Prof. MacCormick's office to be 'Tome 242' and then displays the dictionary."
   ]
  },
  {
   "cell_type": "code",
   "execution_count": null,
   "metadata": {},
   "outputs": [],
   "source": []
  },
  {
   "cell_type": "markdown",
   "metadata": {},
   "source": [
    "__Q6:__ What happens when you map a key to a new value? Which question above illustrates this?"
   ]
  },
  {
   "cell_type": "markdown",
   "metadata": {},
   "source": []
  },
  {
   "cell_type": "markdown",
   "metadata": {},
   "source": [
    "__Q7:__ Can more than one key map to the same value?  Which question above illustrates this?"
   ]
  },
  {
   "cell_type": "markdown",
   "metadata": {},
   "source": []
  },
  {
   "cell_type": "markdown",
   "metadata": {},
   "source": [
    "__Q8:__ Use what you know about `String` and `List` values to write a statement that displays the number of key, value pairs that are in the `offices` dictionary."
   ]
  },
  {
   "cell_type": "code",
   "execution_count": null,
   "metadata": {},
   "outputs": [],
   "source": []
  },
  {
   "cell_type": "markdown",
   "metadata": {},
   "source": [
    "__Q9:__ When a professor goes on sabbatical they often do not keep their office.  Assume Prof. Skalak is going on sabbatical.  Write a statement that removes him from the `offices` dictionary.  You'll have to do some research to figure out how to remove a key, value mapping from the dictionary.  Include a statement that prints the dictionary to confirm that he has been removed."
   ]
  },
  {
   "cell_type": "code",
   "execution_count": null,
   "metadata": {},
   "outputs": [],
   "source": []
  },
  {
   "cell_type": "markdown",
   "metadata": {},
   "source": [
    "### Keys and Values"
   ]
  },
  {
   "cell_type": "markdown",
   "metadata": {},
   "source": [
    "__Q10:__ Write a statement below that checks if there is a professor has an office in `Tome 234`."
   ]
  },
  {
   "cell_type": "code",
   "execution_count": null,
   "metadata": {},
   "outputs": [],
   "source": []
  },
  {
   "cell_type": "markdown",
   "metadata": {},
   "source": [
    "__Q11:__ Write a statement below that checks if there is a professor named `Tucker`."
   ]
  },
  {
   "cell_type": "code",
   "execution_count": null,
   "metadata": {},
   "outputs": [],
   "source": []
  },
  {
   "cell_type": "markdown",
   "metadata": {},
   "source": [
    "### Using Dictionaries\n",
    "\n",
    "In the questions below you will write programs that answer questions related to US City zip codes. To do so you will use the `uszips.csv` file in the `Class35-37` folder.  This file is from the [United States Cities Database](https://simplemaps.com/data/us-cities) and is used under a [Creative Commons Attribution 4.0 license](https://creativecommons.org/licenses/by/4.0/)."
   ]
  },
  {
   "cell_type": "markdown",
   "metadata": {},
   "source": [
    "__Q12:__ Write statements that open the `uszips.csv` file, then reads and prints the first 3 lines and then closes the file.  You may want to refer back to the Class29-30 materials to refresh your memory on working with files.\t"
   ]
  },
  {
   "cell_type": "code",
   "execution_count": null,
   "metadata": {},
   "outputs": [],
   "source": []
  },
  {
   "cell_type": "markdown",
   "metadata": {},
   "source": [
    "__Q13:__ Write statements that open the `uszips.csv` file, skips the first (header) line, reads the first line of data, splits it using the `,` delimiter, prints out the zip code, the city and the state abbreviation that appear on that line and then close the file."
   ]
  },
  {
   "cell_type": "code",
   "execution_count": null,
   "metadata": {},
   "outputs": [],
   "source": []
  },
  {
   "cell_type": "markdown",
   "metadata": {},
   "source": [
    "__Q14:__ Write a program that builds a dictionary that maps from zipcode to the a `String` holding the associated city and state abbreviation.  For example, the key `17013` should map to `Carlisle, PA`."
   ]
  },
  {
   "cell_type": "code",
   "execution_count": null,
   "metadata": {},
   "outputs": [],
   "source": []
  },
  {
   "cell_type": "markdown",
   "metadata": {},
   "source": [
    "__Q15:__ Write statements that use your map to print out the city and state for the zip codes `17013` and `90210`."
   ]
  },
  {
   "cell_type": "code",
   "execution_count": null,
   "metadata": {},
   "outputs": [],
   "source": []
  },
  {
   "cell_type": "markdown",
   "metadata": {},
   "source": [
    "__Q16:__ Write statements that print out the city and state for the zip codes between `17010` and `17020`. Your program should skip any zip codes that do not map to a city and should not generate any errors."
   ]
  },
  {
   "cell_type": "code",
   "execution_count": null,
   "metadata": {},
   "outputs": [],
   "source": []
  },
  {
   "cell_type": "markdown",
   "metadata": {},
   "source": [
    "__Q17:__ Write a program that uses the `uszips.csv` file to build a dictionary of counters that counts the number of zip codes for each state.  Hint: Use the state abbreviation (e.g. `PA`) as the key and use the value to count how many zip codes are in that state."
   ]
  },
  {
   "cell_type": "code",
   "execution_count": null,
   "metadata": {},
   "outputs": [],
   "source": []
  },
  {
   "cell_type": "markdown",
   "metadata": {},
   "source": [
    "__Q18:__ Write a statement that uses your map from __Q17__ to display the number of zip codes in Pennsylvania."
   ]
  },
  {
   "cell_type": "markdown",
   "metadata": {},
   "source": [
    "![Stop sign](stop.png)\n",
    "End of Class 35 material."
   ]
  },
  {
   "cell_type": "markdown",
   "metadata": {},
   "source": [
    "### Iterating over Values and Keys"
   ]
  },
  {
   "cell_type": "markdown",
   "metadata": {},
   "source": [
    "Let's return for a moment to the `office` dictionary:"
   ]
  },
  {
   "cell_type": "code",
   "execution_count": null,
   "metadata": {
    "deletable": false,
    "editable": false
   },
   "outputs": [],
   "source": [
    "offices = dict()\n",
    "offices['Braught'] = 'Tome 234'\n",
    "offices['Skalak'] = 'Tome 246'\n",
    "offices['Siddiqui'] = 'Tome 229'\n",
    "offices['MacCormick'] = \"Toluse France\"\n",
    "offices['Fructer'] = 'Rector North 2312'"
   ]
  },
  {
   "cell_type": "markdown",
   "metadata": {},
   "source": [
    "__Q19:__ Write statements that print all of the offices that appear in the `offices` dictionary, one per line."
   ]
  },
  {
   "cell_type": "code",
   "execution_count": null,
   "metadata": {},
   "outputs": [],
   "source": []
  },
  {
   "cell_type": "markdown",
   "metadata": {},
   "source": [
    "__Q20:__ Write statements below that print out an office directory with one line per professor similar to: `Prof. Braught's office is Tome 234'."
   ]
  },
  {
   "cell_type": "code",
   "execution_count": null,
   "metadata": {},
   "outputs": [],
   "source": []
  },
  {
   "cell_type": "markdown",
   "metadata": {},
   "source": [
    "__Q21:__ Write statements that do a *reverse lookup* in the `offices` dictionary to display the name of the professor who has the office `Tome 229`."
   ]
  },
  {
   "cell_type": "code",
   "execution_count": null,
   "metadata": {},
   "outputs": [],
   "source": []
  },
  {
   "cell_type": "markdown",
   "metadata": {},
   "source": [
    "### Map, Filter and Reduce with Dictionaries\n",
    "\n",
    "In the following questions you will use the file `gadsby.txt` from the `Class35-37` folder.  This file has been obtained from [Project Gutenberg](https://www.gutenberg.org/wiki/Main_Page) which is a repository of over 60,000 free books for which the U.S. copyright has expired. Many of the books in this repository are considered by many to be among \"the world's great literature.\""
   ]
  },
  {
   "cell_type": "markdown",
   "metadata": {},
   "source": [
    "__Q22:__ Open the file `gadsby.txt` in the `Class35-37` folder.  What is contained in this file? Based on the information in the file, what is particularly special about this book?"
   ]
  },
  {
   "cell_type": "code",
   "execution_count": null,
   "metadata": {},
   "outputs": [],
   "source": []
  },
  {
   "cell_type": "markdown",
   "metadata": {},
   "source": [
    "Given that [`e` is the most commonly used letter in the English language](https://stancarey.wordpress.com/2013/01/07/etaoin-srhldcu-or-what-are-the-most-common-words-and-letters-in-english/) writing a text without it is quite the accomplishment.  But it raises all sorts of other questions that we can ask.  The next few questions do just that."
   ]
  },
  {
   "cell_type": "markdown",
   "metadata": {},
   "source": [
    "__Q23:__ We might be interested in what letter actually occurs most frequently in Wright's Gadsby.  As a first step in this direction write a function named `letter_frequency` that takes two arguments:\n",
    "- A `String`\n",
    "- A dictionary\n",
    "\n",
    "The function iterates over the characters in the `String` and uses the dictionary as a dictionary of counters to count the number of times each character appears.  The count should be case insensitive (i.e. 'T' and 't' are counted as the same). If the function is called using a dictionary already containing counts, the counts for the new string should be added to those already in the dictionary.  You can use the automated tests below to check that your function is working correctly.  Hint: The readings contain an example a lot like this."
   ]
  },
  {
   "cell_type": "code",
   "execution_count": null,
   "metadata": {},
   "outputs": [],
   "source": []
  },
  {
   "cell_type": "code",
   "execution_count": null,
   "metadata": {
    "deletable": false,
    "editable": false
   },
   "outputs": [],
   "source": [
    "s='This is a test'\n",
    "let_counts = dict()\n",
    "\n",
    "letter_frequency(s.lower(), let_counts)\n",
    "assert let_counts['t'] == 3, 'incorrect count for t'\n",
    "assert let_counts['i'] == 2, 'incorrect count for i'\n",
    "assert let_counts['s'] == 3, 'incorrect count for s'\n",
    "assert let_counts['e'] == 1, 'incorrect count for e'\n",
    "\n",
    "s2 = \"Another test\"\n",
    "letter_frequency(s2.lower(), let_counts)\n",
    "assert let_counts['t'] == 6, 'incorrect count for t'\n",
    "assert let_counts['i'] == 2, 'incorrect count for i'\n",
    "assert let_counts['s'] == 4, 'incorrect count for s'\n",
    "assert let_counts['e'] == 3, 'incorrect count for e'\n",
    "assert let_counts['o'] == 1, 'incorrect count for o'"
   ]
  },
  {
   "cell_type": "markdown",
   "metadata": {},
   "source": [
    "__Q24:__ On which line number of the file does the actual text of the book begin?  Write statements that open the file, read and display the first line of the book and close the file.  Note: The first line of the book is `If Youth, throughout all history, had had a champion to stand up for`."
   ]
  },
  {
   "cell_type": "code",
   "execution_count": null,
   "metadata": {},
   "outputs": [],
   "source": []
  },
  {
   "cell_type": "markdown",
   "metadata": {},
   "source": [
    "__Q25:__ Write a program that reads all of the lines of Gadsby and uses your `letter_frequency` function to produce a dictionary of counters for the entire text."
   ]
  },
  {
   "cell_type": "code",
   "execution_count": null,
   "metadata": {},
   "outputs": [],
   "source": []
  },
  {
   "cell_type": "markdown",
   "metadata": {},
   "source": [
    "__Q26:__ Write a statement that uses the dictionary of counters to confirm that the letter `e` does not appear in the text."
   ]
  },
  {
   "cell_type": "code",
   "execution_count": null,
   "metadata": {},
   "outputs": [],
   "source": []
  },
  {
   "cell_type": "markdown",
   "metadata": {},
   "source": [
    "__Q27:__ Using the *reduce pattern*, write a function `total_chars` that accepts your dictionary of counters as an argument and returns the total number of characters that appear in the book."
   ]
  },
  {
   "cell_type": "code",
   "execution_count": null,
   "metadata": {},
   "outputs": [],
   "source": []
  },
  {
   "cell_type": "markdown",
   "metadata": {},
   "source": [
    "__Q28:__ Write a few automated tests that check that your `total_chars` function is working correctly.  Hint: Create small dictionaries of counters manually so that you know the correct answers."
   ]
  },
  {
   "cell_type": "code",
   "execution_count": null,
   "metadata": {},
   "outputs": [],
   "source": []
  },
  {
   "cell_type": "markdown",
   "metadata": {},
   "source": [
    "__Q29:__ Using the *map pattern*, write a function that that accepts your dictionary of counters as an argument and converts all of the counts in the dictionary to percentages of the total number of characters.  Hint: Use your function from __Q27__."
   ]
  },
  {
   "cell_type": "code",
   "execution_count": null,
   "metadata": {},
   "outputs": [],
   "source": []
  },
  {
   "cell_type": "markdown",
   "metadata": {},
   "source": [
    "__Q30:__ Using the *filter pattern* write a function that prints a table of all alphabetic (i.e. a-z) characters that appear in the text in lexicographical order.  The format of the table might be something like:\n",
    "```\n",
    "a : 10.45%\n",
    "b : 4.23%\n",
    "...\n",
    "z : 0.01%\n",
    "```"
   ]
  },
  {
   "cell_type": "markdown",
   "metadata": {},
   "source": [
    "![Stop sign](stop.png)\n",
    "End of Class 36 material."
   ]
  },
  {
   "cell_type": "markdown",
   "metadata": {},
   "source": [
    "### Lists as Dictionary Values"
   ]
  },
  {
   "cell_type": "markdown",
   "metadata": {},
   "source": [
    "Consider the following statements that create a dictionary that has lists as its values:"
   ]
  },
  {
   "cell_type": "code",
   "execution_count": null,
   "metadata": {
    "deletable": false,
    "editable": false
   },
   "outputs": [],
   "source": [
    "courses = dict()\n",
    "courses['Braught'] = ['130', '256', '354']\n",
    "courses['Skalak'] = ['232', '356']\n",
    "courses['Siddiqui'] = ['132', '491']\n",
    "print(courses)"
   ]
  },
  {
   "cell_type": "markdown",
   "metadata": {},
   "source": [
    "__Q31:__ Draw a state diagram for the code above that illustrates the `courses` dictionary object.  Include a picture of your state diagram as you answer for this question."
   ]
  },
  {
   "cell_type": "markdown",
   "metadata": {},
   "source": []
  },
  {
   "cell_type": "markdown",
   "metadata": {},
   "source": [
    "__Q32:__ Give a statement (or statements) that access the dictionary to display Prof. Braught's 200-level course."
   ]
  },
  {
   "cell_type": "code",
   "execution_count": null,
   "metadata": {},
   "outputs": [],
   "source": []
  },
  {
   "cell_type": "markdown",
   "metadata": {},
   "source": [
    "__Q33:__ Give a statement or statements that change Prof. Siddiqui's 400-level course to be `492`.  Print out the dictionary to confirm that your statement had the intended effect."
   ]
  },
  {
   "cell_type": "code",
   "execution_count": null,
   "metadata": {},
   "outputs": [],
   "source": []
  },
  {
   "cell_type": "markdown",
   "metadata": {},
   "source": [
    "__Q34:__ Run the program below and explain why the two lines of output are the same."
   ]
  },
  {
   "cell_type": "code",
   "execution_count": null,
   "metadata": {
    "deletable": false,
    "editable": false
   },
   "outputs": [],
   "source": [
    "jmac_courses = ['314', '378']\n",
    "\n",
    "courses['MacCormick'] = jmac_courses\n",
    "courses['MacCormick'][1] = '364'\n",
    "\n",
    "print(jmac_courses)\n",
    "print(courses['MacCormick'])"
   ]
  },
  {
   "cell_type": "markdown",
   "metadata": {},
   "source": [
    "### A Thesaurus\n",
    "\n",
    "A thesaurus lists a number of different possible synonyms for each word that it contains. Thus, a thesaurus seem to be a natural application for a dictionary where a key maps to a list.  The next several questions will explore this application.\n",
    "\n",
    "You'll recall that in Class29-30 we used the `mthesaur.txt` file that contains 30,260 root words with a total of 2,520,264 synonyms. This file was created by Grady Ward and can be found on [his Project Gutenberg page](https://www.gutenberg.org/ebooks/author/1132).  \n",
    "\n",
    "Each line in this file begins with a *root word*. The root word is followed by a `,` and then a `,` delimited *list of synonyms*.  For example:\n",
    ">unstoppable,certain,fated,fateful,indefeasible,ineluctable,inescapable,inevasible,inevitable,inexorable,inflexible,irresistible,irrevocable,necessary,relentless,resistless,sure,sure as death,sure as fate,unavoidable,uncontrollable,undeflectable,unpreventable,unyielding\n",
    "\n",
    "Here the root word is `unstoppable` and the remaining words are synonyms (or synonymous phrases)."
   ]
  },
  {
   "cell_type": "markdown",
   "metadata": {},
   "source": [
    "__Q35:__ Write statements that open the `mthesaur.txt` file included in the `Class35-37` folder, read the first line and print, on one line, the root word and then, on the next line, the list of synonyms, then close the file.  Hint: use the `split` function with a `,` delimiter and then use `List` slices to get the root word and then the rest of the list (i.e. all the synonyms)."
   ]
  },
  {
   "cell_type": "code",
   "execution_count": null,
   "metadata": {},
   "outputs": [],
   "source": []
  },
  {
   "cell_type": "markdown",
   "metadata": {},
   "source": [
    "__Q36:__ Write a function `build_thesaurus` that creates and returns a dictionary holding all of the words and synonyms from the `mthesaur.txt` file."
   ]
  },
  {
   "cell_type": "code",
   "execution_count": null,
   "metadata": {},
   "outputs": [],
   "source": []
  },
  {
   "cell_type": "markdown",
   "metadata": {},
   "source": [
    "__Q37:__ Write a few automated tests to verify that your `build_thesaurus` function is working correctly.  Hint: Pick a few root words and for each, check that the list of synonyms contains a few of the synonyms."
   ]
  },
  {
   "cell_type": "code",
   "execution_count": null,
   "metadata": {},
   "outputs": [],
   "source": []
  },
  {
   "cell_type": "markdown",
   "metadata": {},
   "source": [
    "__Q38:__ Write a program that prompts the user to enter a sentence. The program then displays a new sentence by looking each word up in the thesaurus.  If the word appears in the thesaurus, then the word is replaced with a random synonym from the list of synonyms.  If the word does not appear in the thesaurus it remains unchanged.  The program then prints out the new sentence."
   ]
  },
  {
   "cell_type": "code",
   "execution_count": null,
   "metadata": {},
   "outputs": [],
   "source": []
  },
  {
   "cell_type": "markdown",
   "metadata": {},
   "source": [
    "### Inverting Dictionaries\n",
    "\n",
    "Once you have a dictionary there are often interesting questions that can be answered by inverting the dictionary.  That is making the values the keys and vice versa.  Recalling that multiple keys might map to the same value implies that in the inverted dictionary the same key would have to map to multiple values.  To do this, the values in the inverted dictionary will be lists."
   ]
  },
  {
   "cell_type": "markdown",
   "metadata": {},
   "source": [
    "__Q39:__ Copy the `invert_dict` function from section 11.5 of the text into the cell below."
   ]
  },
  {
   "cell_type": "code",
   "execution_count": null,
   "metadata": {},
   "outputs": [],
   "source": []
  },
  {
   "cell_type": "markdown",
   "metadata": {},
   "source": [
    "__Q40:__ The zip code dictionary from __Q14__ mapped from a given zip code to its city and state.  More often what we want to do is find the zip code for a given city and state. Sort of like the [United States ZIP codes](https://codigo-postal.co/en-us/usa/) site.  An inversion of the zip code dictionary from __Q14__ would support this functionality.  Write a statement that creates a variable that refers to an inversion of the zip code dictionary from __Q14__."
   ]
  },
  {
   "cell_type": "code",
   "execution_count": null,
   "metadata": {},
   "outputs": [],
   "source": []
  },
  {
   "cell_type": "markdown",
   "metadata": {},
   "source": [
    "__Q41:__ Write statements that uses the inverted zip code dictionary from __Q40__ to allow a user to enter a city and a state (e.g. 'Carlisle, PA') and then print out the zip codes for that city and state.  If the city and state are not found a message to that effect should be displayed."
   ]
  },
  {
   "cell_type": "code",
   "execution_count": null,
   "metadata": {},
   "outputs": [],
   "source": []
  },
  {
   "cell_type": "markdown",
   "metadata": {},
   "source": [
    "__Q42:__ Interesting questions can also be asked about an inverted version of the dictionary of counters for Gadsby that was created in __Q29__.  That dictionary maps from a character to its percentage of all characters in the text.  An inverted dictionary would map from percentage to the character(s).  This would allow us to sort the dictionary and find the most frequent or 10 most frequent characters in the text.  Write a statement that creates a variable that refers to an inversion of the Gadsby character count dictionary from __Q29__."
   ]
  },
  {
   "cell_type": "code",
   "execution_count": null,
   "metadata": {},
   "outputs": [],
   "source": []
  },
  {
   "cell_type": "markdown",
   "metadata": {},
   "source": [
    "__Q43:__ Write a program that uses the inverted Gadsby character dictionary to display a table of the to 10 most frequent character in the novel."
   ]
  },
  {
   "cell_type": "code",
   "execution_count": null,
   "metadata": {},
   "outputs": [],
   "source": []
  },
  {
   "cell_type": "markdown",
   "metadata": {},
   "source": [
    "__Q44:__ How do the character percentages in Wright's Gadsby compare to [typical character percentages in the English language](https://stancarey.wordpress.com/2013/01/07/etaoin-srhldcu-or-what-are-the-most-common-words-and-letters-in-english/)?"
   ]
  },
  {
   "cell_type": "markdown",
   "metadata": {},
   "source": []
  },
  {
   "cell_type": "markdown",
   "metadata": {},
   "source": [
    "### Optional Challenge"
   ]
  },
  {
   "cell_type": "markdown",
   "metadata": {},
   "source": [
    "__Q45:__ Create a program that translates a number into a specified language.  The program should provide the user with a list of languages from which to choose (at least 4).  The program should then prompt the user for a number 1...10.  The program should then print out the word for the number in the specified language.  The program should be easily extended to include additional languages.  Hint: Use a dictionary where the values are other dictionaries.  "
   ]
  }
 ],
 "metadata": {
  "kernelspec": {
   "display_name": "Python 3",
   "language": "python",
   "name": "python3"
  },
  "language_info": {
   "codemirror_mode": {
    "name": "ipython",
    "version": 3
   },
   "file_extension": ".py",
   "mimetype": "text/x-python",
   "name": "python",
   "nbconvert_exporter": "python",
   "pygments_lexer": "ipython3",
   "version": "3.7.3"
  }
 },
 "nbformat": 4,
 "nbformat_minor": 2
}
