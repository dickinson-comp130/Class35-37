{
 "cells": [
  {
   "cell_type": "markdown",
   "metadata": {},
   "source": [
    "# Class 35-37 - Dictionaries  \n",
    "**COMP130 - Introduction to Computing**  \n",
    "**Dickinson College**  "
   ]
  },
  {
   "cell_type": "markdown",
   "metadata": {},
   "source": [
    "### Names:"
   ]
  },
  {
   "cell_type": "markdown",
   "metadata": {},
   "source": [
    "Grace Murray Hopper"
   ]
  },
  {
   "cell_type": "markdown",
   "metadata": {},
   "source": [
    "### Dictionary Basics"
   ]
  },
  {
   "cell_type": "markdown",
   "metadata": {},
   "source": [
    "Consider the code below:"
   ]
  },
  {
   "cell_type": "code",
   "execution_count": 2,
   "metadata": {
    "deletable": false,
    "editable": false
   },
   "outputs": [],
   "source": [
    "offices = dict()\n",
    "offices['Braught'] = 'Tome 234'\n",
    "offices['Skalak'] = 'Tome 246'\n",
    "offices['Siddiqui'] = 'Tome 229'\n",
    "offices['MacCormick'] = \"Toluse France\"\n",
    "offices['Fructer'] = 'Rector North 2312'"
   ]
  },
  {
   "cell_type": "markdown",
   "metadata": {},
   "source": [
    "__Q1:__ Dictionaries map *keys* to *values*. Are professor names the keys or values in the `offices` dictionary?  Are office locations the keys or values in the `offices` dictionary?"
   ]
  },
  {
   "cell_type": "markdown",
   "metadata": {},
   "source": [
    "Professor names are the *keys* in the `offices` dictionary.\n",
    "\n",
    "Office locations are the *values* in the `offices` dictionary."
   ]
  },
  {
   "cell_type": "markdown",
   "metadata": {},
   "source": [
    "__Q2:__ Draw an state diagram for the code above showing the `offices` dictionary.  Include a picture of your diagram as your answer to this question."
   ]
  },
  {
   "cell_type": "markdown",
   "metadata": {},
   "source": [
    "![q2state](q2state.jpg)"
   ]
  },
  {
   "cell_type": "markdown",
   "metadata": {},
   "source": [
    "__Q3:__ Write a statement that prints Prof. Braught's office number."
   ]
  },
  {
   "cell_type": "code",
   "execution_count": 3,
   "metadata": {},
   "outputs": [
    {
     "name": "stdout",
     "output_type": "stream",
     "text": [
      "Tome 234\n"
     ]
    }
   ],
   "source": [
    "print(offices['Braught'])"
   ]
  },
  {
   "cell_type": "markdown",
   "metadata": {},
   "source": [
    "__Q4:__ Write statements that adds Prof. Whitmore to the dictionary with an office in 'Rector North 2312' and then displays the dictionary."
   ]
  },
  {
   "cell_type": "code",
   "execution_count": 6,
   "metadata": {},
   "outputs": [
    {
     "name": "stdout",
     "output_type": "stream",
     "text": [
      "{'Braught': 'Tome 234', 'Skalak': 'Tome 246', 'Siddiqui': 'Tome 229', 'MacCormick': 'Toluse France', 'Fructer': 'Rector North 2312', 'Whitmore': 'Rector North 2312'}\n"
     ]
    }
   ],
   "source": [
    "offices['Whitmore'] = 'Rector North 2312'\n",
    "print(offices)"
   ]
  },
  {
   "cell_type": "markdown",
   "metadata": {},
   "source": [
    "__Q5:__ Write statements that change Prof. MacCormick's office to be 'Tome 242' and then displays the dictionary."
   ]
  },
  {
   "cell_type": "code",
   "execution_count": 7,
   "metadata": {},
   "outputs": [
    {
     "name": "stdout",
     "output_type": "stream",
     "text": [
      "{'Braught': 'Tome 234', 'Skalak': 'Tome 246', 'Siddiqui': 'Tome 229', 'MacCormick': 'Tome 242', 'Fructer': 'Rector North 2312', 'Whitmore': 'Rector North 2312'}\n"
     ]
    }
   ],
   "source": [
    "offices['MacCormick'] = 'Tome 242'\n",
    "print(offices)"
   ]
  },
  {
   "cell_type": "markdown",
   "metadata": {},
   "source": [
    "__Q6:__ What happens when you map a key to a new value? Which question above illustrates this?"
   ]
  },
  {
   "cell_type": "markdown",
   "metadata": {},
   "source": [
    "Q5 shows that when you map an existing dictionary key to a new value, Python discards the old value and replaces it with the new value you provided."
   ]
  },
  {
   "cell_type": "markdown",
   "metadata": {},
   "source": [
    "__Q7:__ Can more than one key map to the same value?  Which question above illustrates this?"
   ]
  },
  {
   "cell_type": "markdown",
   "metadata": {},
   "source": [
    "Q4 maps Prof. Whitmore's office to the same location as Professor Fruchter's office. This produces no error and both key/value pairs are displayed in the `offices` dictionary, so this shows that more than 1 key can be mapped to the same value."
   ]
  },
  {
   "cell_type": "markdown",
   "metadata": {},
   "source": [
    "__Q8:__ Use what you know about `String` and `List` values to write a statement that displays the number of key, value pairs that are in the `offices` dictionary."
   ]
  },
  {
   "cell_type": "code",
   "execution_count": 9,
   "metadata": {},
   "outputs": [
    {
     "name": "stdout",
     "output_type": "stream",
     "text": [
      "There are 6 key/value pairs in the offices dictionary.\n"
     ]
    }
   ],
   "source": [
    "print(\"There are\", len(offices), \"key/value pairs in the offices dictionary.\")"
   ]
  },
  {
   "cell_type": "markdown",
   "metadata": {},
   "source": [
    "__Q9:__ When a professor goes on sabbatical they often do not keep their office.  Assume Prof. Skalak is going on sabbatical.  Write a statement that removes him from the `offices` dictionary.  You'll have to do some research to figure out how to remove a key, value mapping from the dictionary.  Include a statement that prints the dictionary to confirm that he has been removed."
   ]
  },
  {
   "cell_type": "code",
   "execution_count": 10,
   "metadata": {},
   "outputs": [
    {
     "name": "stdout",
     "output_type": "stream",
     "text": [
      "{'Braught': 'Tome 234', 'Siddiqui': 'Tome 229', 'MacCormick': 'Tome 242', 'Fructer': 'Rector North 2312', 'Whitmore': 'Rector North 2312'}\n"
     ]
    }
   ],
   "source": [
    "offices.pop(\"Skalak\")\n",
    "print(offices)"
   ]
  },
  {
   "cell_type": "markdown",
   "metadata": {},
   "source": [
    "### Keys and Values"
   ]
  },
  {
   "cell_type": "markdown",
   "metadata": {},
   "source": [
    "__Q10:__ Write a statement below that checks if there is a professor has an office in `Tome 234`."
   ]
  },
  {
   "cell_type": "code",
   "execution_count": 11,
   "metadata": {},
   "outputs": [
    {
     "data": {
      "text/plain": [
       "True"
      ]
     },
     "execution_count": 11,
     "metadata": {},
     "output_type": "execute_result"
    }
   ],
   "source": [
    "\"Tome 234\" in offices.values()"
   ]
  },
  {
   "cell_type": "markdown",
   "metadata": {},
   "source": [
    "__Q11:__ Write a statement below that checks if there is a professor named `Tucker`."
   ]
  },
  {
   "cell_type": "code",
   "execution_count": 12,
   "metadata": {},
   "outputs": [
    {
     "data": {
      "text/plain": [
       "False"
      ]
     },
     "execution_count": 12,
     "metadata": {},
     "output_type": "execute_result"
    }
   ],
   "source": [
    "\"Tucker\" in offices.keys()"
   ]
  },
  {
   "cell_type": "markdown",
   "metadata": {},
   "source": [
    "### Using Dictionaries\n",
    "\n",
    "In the questions below you will write programs that answer questions related to US City zip codes. To do so you will use the `uszips.csv` file in the `Class35-37` folder.  This file is from the [United States Cities Database](https://simplemaps.com/data/us-cities) and is used under a [Creative Commons Attribution 4.0 license](https://creativecommons.org/licenses/by/4.0/)."
   ]
  },
  {
   "cell_type": "markdown",
   "metadata": {},
   "source": [
    "__Q12:__ Write statements that open the `uszips.csv` file, then reads and prints the first 3 lines and then closes the file.  You may want to refer back to the Class29-30 materials to refresh your memory on working with files.\t"
   ]
  },
  {
   "cell_type": "code",
   "execution_count": 15,
   "metadata": {},
   "outputs": [
    {
     "name": "stdout",
     "output_type": "stream",
     "text": [
      "\"zip\",\"lat\",\"lng\",\"city\",\"state_id\",\"state_name\",\"zcta\",\"parent_zcta\",\"population\",\"density\",\"county_fips\",\"county_name\",\"all_county_weights\",\"imprecise\",\"military\",\"timezone\"\n",
      "\n",
      "\"00601\",\"18.18004\",\"-66.75218\",\"Adjuntas\",\"PR\",\"Puerto Rico\",\"TRUE\",\"\",\"18570\",\"111.4\",\"72001\",\"Adjuntas\",\"{'72001':99.43,'72141':0.57}\",\"FALSE\",\"FALSE\",\"America/Puerto_Rico\"\n",
      "\n",
      "\"00602\",\"18.36073\",\"-67.17517\",\"Aguada\",\"PR\",\"Puerto Rico\",\"TRUE\",\"\",\"41520\",\"523.5\",\"72003\",\"Aguada\",\"{'72003':100}\",\"FALSE\",\"FALSE\",\"America/Puerto_Rico\"\n",
      "\n"
     ]
    }
   ],
   "source": [
    "zips = open(\"uszips.csv\")\n",
    "line = zips.readline()\n",
    "for i in range(3):\n",
    "    print(line)\n",
    "    line = zips.readline()\n",
    "zips.close()"
   ]
  },
  {
   "cell_type": "markdown",
   "metadata": {},
   "source": [
    "__Q13:__ Write statements that open the `uszips.csv` file, skips the first (header) line, reads the first line of data, splits it using the `,` delimiter, prints out the zip code, the city and the state abbreviation that appear on that line and then close the file."
   ]
  },
  {
   "cell_type": "code",
   "execution_count": 18,
   "metadata": {},
   "outputs": [
    {
     "name": "stdout",
     "output_type": "stream",
     "text": [
      "\"00601\" \"Adjuntas\" \"PR\"\n"
     ]
    }
   ],
   "source": [
    "zips = open(\"uszips.csv\")\n",
    "line = zips.readline()\n",
    "line = zips.readline()\n",
    "zipData = line.split(\",\")\n",
    "print(zipData[0], zipData[3], zipData[4])\n",
    "zips.close()"
   ]
  },
  {
   "cell_type": "markdown",
   "metadata": {},
   "source": [
    "__Q14:__ Write a program that builds a dictionary that maps from zipcode to the a `String` holding the associated city and state abbreviation.  For example, the key `17013` should map to `Carlisle, PA`."
   ]
  },
  {
   "cell_type": "code",
   "execution_count": 72,
   "metadata": {},
   "outputs": [
    {
     "name": "stdout",
     "output_type": "stream",
     "text": [
      "Your zip code dictionary has loaded.\n"
     ]
    }
   ],
   "source": [
    "zips = open(\"uszips.csv\")\n",
    "line = zips.readline()\n",
    "line = zips.readline()\n",
    "\n",
    "zipDict = {}\n",
    "\n",
    "while line:\n",
    "    zipData = line.split(\",\")\n",
    "    zipData[0] = zipData[0].strip('\"')\n",
    "    zipDict[zipData[0]] = zipData[3] + zipData[4]\n",
    "    line = zips.readline()\n",
    "    \n",
    "zips.close()\n",
    "print(\"Your zip code dictionary has loaded.\")\n",
    "#print(zipDict)"
   ]
  },
  {
   "cell_type": "markdown",
   "metadata": {},
   "source": [
    "__Q15:__ Write statements that use your map to print out the city and state for the zip codes `17013` and `90210`."
   ]
  },
  {
   "cell_type": "code",
   "execution_count": 55,
   "metadata": {},
   "outputs": [
    {
     "name": "stdout",
     "output_type": "stream",
     "text": [
      "\"Carlisle\"\"PA\"\n",
      "\"Beverly Hills\"\"CA\"\n"
     ]
    }
   ],
   "source": [
    "print(zipDict['17013'])\n",
    "print(zipDict['90210'])"
   ]
  },
  {
   "cell_type": "markdown",
   "metadata": {},
   "source": [
    "__Q16:__ Write statements that print out the city and state for the zip codes between `17010` and `17020`. Your program should skip any zip codes that do not map to a city and should not generate any errors."
   ]
  },
  {
   "cell_type": "code",
   "execution_count": 56,
   "metadata": {},
   "outputs": [
    {
     "name": "stdout",
     "output_type": "stream",
     "text": [
      "\"Campbelltown\"\"PA\"\n",
      "\"Camp Hill\"\"PA\"\n",
      "\"Carlisle\"\"PA\"\n",
      "\"Carlisle\"\"PA\"\n",
      "\"Cornwall\"\"PA\"\n",
      "\"Dalmatia\"\"PA\"\n",
      "\"Dauphin\"\"PA\"\n",
      "\"Dillsburg\"\"PA\"\n"
     ]
    }
   ],
   "source": [
    "for i in range(17010, 17020):\n",
    "    j = str(i)\n",
    "    if zipDict.get(j):\n",
    "        print(zipDict[j])"
   ]
  },
  {
   "cell_type": "code",
   "execution_count": 61,
   "metadata": {},
   "outputs": [
    {
     "name": "stdout",
     "output_type": "stream",
     "text": [
      "\"Campbelltown\"\"PA\"\n",
      "\"Camp Hill\"\"PA\"\n",
      "\"Carlisle\"\"PA\"\n",
      "\"Carlisle\"\"PA\"\n",
      "\"Cornwall\"\"PA\"\n",
      "\"Dalmatia\"\"PA\"\n",
      "\"Dauphin\"\"PA\"\n",
      "\"Dillsburg\"\"PA\"\n",
      "\"Duncannon\"\"PA\"\n"
     ]
    }
   ],
   "source": [
    "code = 17010\n",
    "\n",
    "for i in range(11):\n",
    "    j = str(code)\n",
    "    if zipDict.get(j):\n",
    "        print(zipDict[j])\n",
    "    code += 1"
   ]
  },
  {
   "cell_type": "markdown",
   "metadata": {},
   "source": [
    "__Q17:__ Write a program that uses the `uszips.csv` file to build a dictionary of counters that counts the number of zip codes for each state.  Hint: Use the state abbreviation (e.g. `PA`) as the key and use the value to count how many zip codes are in that state."
   ]
  },
  {
   "cell_type": "code",
   "execution_count": 70,
   "metadata": {},
   "outputs": [
    {
     "name": "stdout",
     "output_type": "stream",
     "text": [
      "{'PR': 131, 'MA': 537, 'RI': 77, 'NH': 248, 'ME': 432, 'VT': 255, 'CT': 282, 'NY': 1794, 'NJ': 595, 'PA': 1795, 'DE': 67, 'DC': 52, 'VA': 896, 'MD': 468, 'WV': 706, 'NC': 808, 'SC': 424, 'GA': 735, 'FL': 983, 'AL': 642, 'TN': 628, 'MS': 423, 'KY': 767, 'OH': 1195, 'IN': 775, 'MI': 986, 'IA': 934, 'WI': 772, 'MN': 884, 'SD': 371, 'ND': 383, 'MT': 361, 'IL': 1383, 'MO': 1022, 'KS': 697, 'NE': 581, 'LA': 515, 'AR': 591, 'OK': 648, 'TX': 1935, 'CO': 525, 'WY': 178, 'ID': 277, 'UT': 287, 'AZ': 405, 'NM': 368, 'NV': 175, 'CA': 1761, 'HI': 94, 'OR': 417, 'WA': 596, 'AK': 238}\n"
     ]
    }
   ],
   "source": [
    "stateZips = {}\n",
    "zipPerState = zipDict.values()\n",
    "for state in zipPerState:\n",
    "    state = state[len(state) - 3:len(state) - 1]\n",
    "    if state not in stateZips:\n",
    "        stateZips[state] = 1\n",
    "    else:\n",
    "        stateZips[state] += 1\n",
    "print(stateZips)\n",
    "        "
   ]
  },
  {
   "cell_type": "markdown",
   "metadata": {},
   "source": [
    "__Q18:__ Write a statement that uses your map from __Q17__ to display the number of zip codes in Pennsylvania."
   ]
  },
  {
   "cell_type": "code",
   "execution_count": 71,
   "metadata": {},
   "outputs": [
    {
     "data": {
      "text/plain": [
       "1795"
      ]
     },
     "execution_count": 71,
     "metadata": {},
     "output_type": "execute_result"
    }
   ],
   "source": [
    "stateZips['PA']"
   ]
  },
  {
   "cell_type": "markdown",
   "metadata": {},
   "source": [
    "![Stop sign](stop.png)\n",
    "End of Class 35 material."
   ]
  },
  {
   "cell_type": "markdown",
   "metadata": {},
   "source": [
    "### Iterating over Values and Keys"
   ]
  },
  {
   "cell_type": "markdown",
   "metadata": {},
   "source": [
    "Let's return for a moment to the `office` dictionary:"
   ]
  },
  {
   "cell_type": "code",
   "execution_count": 75,
   "metadata": {
    "deletable": false,
    "editable": false
   },
   "outputs": [],
   "source": [
    "offices = dict()\n",
    "offices['Braught'] = 'Tome 234'\n",
    "offices['Skalak'] = 'Tome 246'\n",
    "offices['Siddiqui'] = 'Tome 229'\n",
    "offices['MacCormick'] = \"Toluse France\"\n",
    "offices['Fructer'] = 'Rector North 2312'"
   ]
  },
  {
   "cell_type": "markdown",
   "metadata": {},
   "source": [
    "__Q19:__ Write statements that print all of the offices that appear in the `offices` dictionary, one per line."
   ]
  },
  {
   "cell_type": "code",
   "execution_count": 80,
   "metadata": {},
   "outputs": [
    {
     "name": "stdout",
     "output_type": "stream",
     "text": [
      "Tome 234\n",
      "Tome 246\n",
      "Tome 229\n",
      "Toluse France\n",
      "Rector North 2312\n"
     ]
    }
   ],
   "source": [
    "for office in offices:\n",
    "    print(offices[office])"
   ]
  },
  {
   "cell_type": "markdown",
   "metadata": {},
   "source": [
    "__Q20:__ Write statements below that print out an office directory with one line per professor similar to: `Prof. Braught's office is Tome 234'."
   ]
  },
  {
   "cell_type": "code",
   "execution_count": 95,
   "metadata": {},
   "outputs": [
    {
     "name": "stdout",
     "output_type": "stream",
     "text": [
      "Prof. Braught's office is in Tome 234.\n",
      "Prof. Skalak's office is in Tome 246.\n",
      "Prof. Siddiqui's office is in Tome 229.\n",
      "Prof. MacCormick's office is in Toluse France.\n",
      "Prof. Fructer's office is in Rector North 2312.\n"
     ]
    }
   ],
   "source": [
    "for prof in offices:\n",
    "    print(\"Prof.\", prof + \"'s\", \"office is in\", offices.get(prof) + \".\")"
   ]
  },
  {
   "cell_type": "markdown",
   "metadata": {},
   "source": [
    "__Q21:__ Write statements that do a *reverse lookup* in the `offices` dictionary to display the name of the professor who has the office `Tome 229`."
   ]
  },
  {
   "cell_type": "code",
   "execution_count": 99,
   "metadata": {},
   "outputs": [
    {
     "name": "stdout",
     "output_type": "stream",
     "text": [
      "Prof. Siddiqui's office is Tome 229.\n"
     ]
    }
   ],
   "source": [
    "target = \"Tome 229\"\n",
    "for prof in offices:\n",
    "    if offices[prof] == target:\n",
    "        print(\"Prof.\", prof + \"'s\", \"office is\", target + \".\")"
   ]
  },
  {
   "cell_type": "markdown",
   "metadata": {},
   "source": [
    "### Map, Filter and Reduce with Dictionaries\n",
    "\n",
    "In the following questions you will use the file `gadsby.txt` from the `Class35-37` folder.  This file has been obtained from [Project Gutenberg](https://www.gutenberg.org/wiki/Main_Page) which is a repository of over 60,000 free books for which the U.S. copyright has expired. Many of the books in this repository are considered by many to be among \"the world's great literature.\""
   ]
  },
  {
   "cell_type": "markdown",
   "metadata": {},
   "source": [
    "__Q22:__ Open the file `gadsby.txt` in the `Class35-37` folder.  What is contained in this file? Based on the information in the file, what is particularly special about this book?"
   ]
  },
  {
   "cell_type": "markdown",
   "metadata": {},
   "source": [
    "This file is plain text data that includes\n",
    "* the Project Gutenberg eBook use license\n",
    "* the publishing information of the novel *Gadsby* by Ernest Vincent Wright\n",
    "* the text of the novel *Gadsby* by Ernest Vincent Wright and transcriber's note\n",
    "\n",
    "**Writing words that display skill and unity without using a vital ingot of your format is astounding. I can't fathom how a human could do it for so many paragraphs. Just assaying this paltry scrawl is intimidating!**\n",
    "\n",
    "\n",
    "Writing coherent language for 50,000 words without using the letter E is not something I would have thought possible. Note however, that even in the introduction (which fairly uses the letter E), there is a precision and conviction in the voice that gives you a first suspicion that this could be done. 400 words in, I became a believer."
   ]
  },
  {
   "cell_type": "markdown",
   "metadata": {},
   "source": [
    "Given that [`e` is the most commonly used letter in the English language](https://stancarey.wordpress.com/2013/01/07/etaoin-srhldcu-or-what-are-the-most-common-words-and-letters-in-english/) writing a text without it is quite the accomplishment.  But it raises all sorts of other questions that we can ask.  The next few questions do just that."
   ]
  },
  {
   "cell_type": "markdown",
   "metadata": {},
   "source": [
    "__Q23:__ We might be interested in what letter actually occurs most frequently in Wright's Gadsby.  As a first step in this direction write a function named `letter_frequency` that takes two arguments:\n",
    "- A `String`\n",
    "- A dictionary\n",
    "\n",
    "The function iterates over the characters in the `String` and uses the dictionary as a dictionary of counters to count the number of times each character appears.  The count should be case insensitive (i.e. 'T' and 't' are counted as the same). If the function is called using a dictionary already containing counts, the counts for the new string should be added to those already in the dictionary.  You can use the automated tests below to check that your function is working correctly.  Hint: The readings contain an example a lot like this."
   ]
  },
  {
   "cell_type": "code",
   "execution_count": 4,
   "metadata": {},
   "outputs": [
    {
     "name": "stdout",
     "output_type": "stream",
     "text": [
      "{'t': 3, 'h': 1, 'i': 2, 's': 3, ' ': 3, 'a': 1, 'e': 1}\n"
     ]
    }
   ],
   "source": [
    "def letter_frequency(string, dic):\n",
    "    for char in string:\n",
    "        if char not in dic:\n",
    "            dic[char] = 1\n",
    "        else:\n",
    "            dic[char] += 1\n",
    "    return dic\n",
    "freqDict = {}\n",
    "print(letter_frequency('this is a test', freqDict))"
   ]
  },
  {
   "cell_type": "code",
   "execution_count": 5,
   "metadata": {},
   "outputs": [
    {
     "name": "stdout",
     "output_type": "stream",
     "text": [
      "success!\n"
     ]
    }
   ],
   "source": [
    "s='This is a test'\n",
    "let_counts = dict()\n",
    "\n",
    "letter_frequency(s.lower(), let_counts)\n",
    "assert let_counts['t'] == 3, 'incorrect count for t'\n",
    "assert let_counts['i'] == 2, 'incorrect count for i'\n",
    "assert let_counts['s'] == 3, 'incorrect count for s'\n",
    "assert let_counts['e'] == 1, 'incorrect count for e'\n",
    "\n",
    "s2 = \"Another test\"\n",
    "letter_frequency(s2.lower(), let_counts)\n",
    "assert let_counts['t'] == 6, 'incorrect count for t'\n",
    "assert let_counts['i'] == 2, 'incorrect count for i'\n",
    "assert let_counts['s'] == 4, 'incorrect count for s'\n",
    "assert let_counts['e'] == 3, 'incorrect count for e'\n",
    "assert let_counts['o'] == 1, 'incorrect count for o'\n",
    "\n",
    "print(\"success!\")"
   ]
  },
  {
   "cell_type": "markdown",
   "metadata": {},
   "source": [
    "__Q24:__ On which line number of the file does the actual text of the book begin?  Write statements that open the file, read and display the first line of the book and close the file.  Note: The first line of the book is `If Youth, throughout all history, had had a champion to stand up for`."
   ]
  },
  {
   "cell_type": "markdown",
   "metadata": {},
   "source": [
    "The actual text of the book begins on line 184.\n",
    "\n",
    "Your text editor proabaly has a tool or menu option that can do [this](http://osxdaily.com/2015/02/03/jump-to-a-line-number-in-textedit-documents-on-the-mac/) for you.\n",
    "\n",
    "Another great technique is to open the text file in a code editor. The text will usually display with line numbers."
   ]
  },
  {
   "cell_type": "markdown",
   "metadata": {},
   "source": [
    "__Q25:__ Write a program that reads all of the lines of Gadsby and uses your `letter_frequency` function to produce a dictionary of counters for the entire text."
   ]
  },
  {
   "cell_type": "code",
   "execution_count": 44,
   "metadata": {},
   "outputs": [
    {
     "name": "stdout",
     "output_type": "stream",
     "text": [
      "{'i': 18717, 'f': 4564, ' ': 46475, 'y': 6734, 'o': 22100, 'u': 8820, 't': 18017, 'h': 10412, ',': 5184, 'r': 10092, 'g': 7647, 'a': 23230, 'l': 11282, 's': 14777, 'd': 8733, 'c': 5644, 'm': 4403, 'p': 4039, 'n': 18235, '\\n': 5682, ';': 1086, 'w': 5934, 'b': 4542, 'k': 2499, \"'\": 1273, '\"': 1863, '.': 1559, 'v': 686, 'q': 109, '-': 1509, ':': 274, '_': 1192, 'j': 487, '!': 1187, 'z': 228, 'x': 168, '?': 338, '(': 56, ')': 56, 'e': 4, '*': 95}\n"
     ]
    }
   ],
   "source": [
    "gaDict = {}\n",
    "gadsby = open(\"gadsby.txt\")\n",
    "line = gadsby.readline()\n",
    "for i in range(183):\n",
    "    line = gadsby.readline().lower()\n",
    "\n",
    "# print(line) scaffoling\n",
    "# while line: You can't use a while loop here because you have to stop before the end of the file.\n",
    "for i in range(5682):\n",
    "    letter_frequency(line, gaDict)\n",
    "    line = gadsby.readline().lower()\n",
    "\n",
    "print(gaDict)\n",
    "# print(line) scaffoling"
   ]
  },
  {
   "cell_type": "markdown",
   "metadata": {},
   "source": [
    "__Q26:__ Write a statement that uses the dictionary of counters to confirm that the letter `e` does not appear in the text."
   ]
  },
  {
   "cell_type": "code",
   "execution_count": 45,
   "metadata": {},
   "outputs": [
    {
     "name": "stdout",
     "output_type": "stream",
     "text": [
      "The letter E appears 4 times in the novel Gadsby.\n",
      "This matches what is declared in the transcriber's note.\n"
     ]
    }
   ],
   "source": [
    "print(\"The letter E appears\", gaDict[\"e\"], \"times in the novel Gadsby.\")\n",
    "print(\"This matches what is declared in the transcriber's note.\")"
   ]
  },
  {
   "cell_type": "markdown",
   "metadata": {},
   "source": [
    "__Q27:__ Using the *reduce pattern*, write a function `total_chars` that accepts your dictionary of counters as an argument and returns the total number of characters that appear in the book."
   ]
  },
  {
   "cell_type": "code",
   "execution_count": 46,
   "metadata": {},
   "outputs": [
    {
     "name": "stdout",
     "output_type": "stream",
     "text": [
      "279932\n"
     ]
    }
   ],
   "source": [
    "def total_chars(dic):\n",
    "    totLets = 0\n",
    "    for letter in dic:\n",
    "        totLets += dic[letter]\n",
    "    return totLets\n",
    "print(total_chars(gaDict))"
   ]
  },
  {
   "cell_type": "markdown",
   "metadata": {},
   "source": [
    "When the same text is pasted into a word processor with a word count function, totals can differ because of formatting differences. For instance, notice that Python counts the `\\n` end line indicator as a character.\n",
    "\n",
    "The Pages word processor counted 274,255 characters.\n",
    "\n",
    "An online word counter returned 279,937 characters."
   ]
  },
  {
   "cell_type": "markdown",
   "metadata": {},
   "source": [
    "__Q28:__ Write a few automated tests that check that your `total_chars` function is working correctly.  Hint: Create small dictionaries of counters manually so that you know the correct answers."
   ]
  },
  {
   "cell_type": "code",
   "execution_count": 47,
   "metadata": {},
   "outputs": [
    {
     "name": "stdout",
     "output_type": "stream",
     "text": [
      "success!\n"
     ]
    }
   ],
   "source": [
    "aToZ = \"The quick brown fox jumps over the lazy dogs.\"\n",
    "aToZdic = {}\n",
    "mNm = \"metonymy not metaphor\"\n",
    "mNmDic = {}\n",
    "bot = \"I'd rather have a bottle in front of me than have to have a frontal lobotomy.\"\n",
    "botDic = {}\n",
    "letter_frequency(bot, botDic)\n",
    "letter_frequency(mNm, mNmDic)\n",
    "letter_frequency(aToZ, aToZdic)\n",
    "assert total_chars(aToZdic) == 45, \"A to Z is wrong.\"\n",
    "assert total_chars(mNmDic) == 21, \"mNm is wrong.\"\n",
    "assert total_chars(botDic) == 77, \"bot is wrong.\"\n",
    "print(\"success!\")"
   ]
  },
  {
   "cell_type": "markdown",
   "metadata": {},
   "source": [
    "__Q29:__ Using the *map pattern*, write a function that that accepts your dictionary of counters as an argument and converts all of the counts in the dictionary to percentages of the total number of characters.  Hint: Use your function from __Q27__."
   ]
  },
  {
   "cell_type": "code",
   "execution_count": 48,
   "metadata": {},
   "outputs": [
    {
     "name": "stdout",
     "output_type": "stream",
     "text": [
      "{'i': 0.06686266664761442, 'f': 0.01630395953302945, ' ': 0.16602246259805953, 'y': 0.024055842133089464, 'o': 0.0789477444522241, 'u': 0.03150765185830845, 't': 0.06436205935727247, 'h': 0.03719474729577183, ',': 0.0185187831330466, 'r': 0.03605161253447266, 'g': 0.027317348498921167, 'a': 0.08298443907806181, 'l': 0.04030264492805396, 's': 0.052787819899118356, 'd': 0.031196862095080234, 'c': 0.020162039352414157, 'm': 0.015728819856250804, 'p': 0.014428504065272995, 'n': 0.06514081991340755, '\\n': 0.020297786605318436, ';': 0.0038795135961590672, 'w': 0.021198005229841534, 'b': 0.016225369018190133, 'k': 0.008927168026520726, \"'\": 0.004547532972293271, '\"': 0.006655187688438621, '.': 0.005569209665204407, 'v': 0.002450595144535101, 'q': 0.0003893802780675307, '-': 0.005390594858751411, ':': 0.0009788091393624165, '_': 0.004258176985839418, 'j': 0.0017397082148521783, '!': 0.004240315505194119, 'z': 0.0008144835174256605, 'x': 0.0006001457496820656, '?': 0.0012074360916222511, '(': 0.00020004858322735522, ')': 0.00020004858322735522, 'e': 1.4289184516239657e-05, '*': 0.00033936813226069187}\n"
     ]
    }
   ],
   "source": [
    "def total_chars(dic):\n",
    "    totLets = 0\n",
    "    for letter in dic:\n",
    "        totLets += dic[letter]\n",
    "    return totLets\n",
    "\n",
    "totChars = total_chars(gaDict)\n",
    "percChars = {}\n",
    "for letter in gaDict:\n",
    "    percChars[letter] = gaDict[letter] / totChars\n",
    "print(percChars)"
   ]
  },
  {
   "cell_type": "markdown",
   "metadata": {},
   "source": [
    "__Q30:__ Using the *filter pattern* write a function that prints a table of all alphabetic (i.e. a-z) characters that appear in the text in lexicographical order.  The format of the table might be something like:\n",
    "```\n",
    "a : 10.45%\n",
    "b : 4.23%\n",
    "...\n",
    "z : 0.01%\n",
    "```"
   ]
  },
  {
   "cell_type": "code",
   "execution_count": 74,
   "metadata": {},
   "outputs": [
    {
     "name": "stdout",
     "output_type": "stream",
     "text": [
      "\n",
      " : 2.03\n",
      "  : 16.602\n",
      "! : 0.424\n",
      "\" : 0.666\n",
      "' : 0.455\n",
      "( : 0.02\n",
      ") : 0.02\n",
      "* : 0.034\n",
      ", : 1.852\n",
      "- : 0.539\n",
      ". : 0.557\n",
      ": : 0.098\n",
      "; : 0.388\n",
      "? : 0.121\n",
      "_ : 0.426\n",
      "a : 8.298\n",
      "b : 1.623\n",
      "c : 2.016\n",
      "d : 3.12\n",
      "e : 0.001\n",
      "f : 1.63\n",
      "g : 2.732\n",
      "h : 3.719\n",
      "i : 6.686\n",
      "j : 0.174\n",
      "k : 0.893\n",
      "l : 4.03\n",
      "m : 1.573\n",
      "n : 6.514\n",
      "o : 7.895\n",
      "p : 1.443\n",
      "q : 0.039\n",
      "r : 3.605\n",
      "s : 5.279\n",
      "t : 6.436\n",
      "u : 3.151\n",
      "v : 0.245\n",
      "w : 2.12\n",
      "x : 0.06\n",
      "y : 2.406\n",
      "z : 0.081\n",
      "100.001\n"
     ]
    }
   ],
   "source": [
    "gadsbySK = sorted(percChars.keys())\n",
    "totPer = 0\n",
    "for i in range(len(gadsbySK)):\n",
    "    perc = round((percChars[gadsbySK[i]] * 100), 3)\n",
    "    print(gadsbySK[i], \":\", perc)\n",
    "    totPer += perc\n",
    "print(totPer)"
   ]
  },
  {
   "cell_type": "markdown",
   "metadata": {},
   "source": [
    "![Stop sign](stop.png)\n",
    "End of Class 36 material."
   ]
  },
  {
   "cell_type": "markdown",
   "metadata": {},
   "source": [
    "### Lists as Dictionary Values"
   ]
  },
  {
   "cell_type": "markdown",
   "metadata": {},
   "source": [
    "Consider the following statements that create a dictionary that has lists as its values:"
   ]
  },
  {
   "cell_type": "code",
   "execution_count": 2,
   "metadata": {
    "deletable": false,
    "editable": false
   },
   "outputs": [
    {
     "name": "stdout",
     "output_type": "stream",
     "text": [
      "{'Braught': ['130', '256', '354'], 'Skalak': ['232', '356'], 'Siddiqui': ['132', '491']}\n"
     ]
    }
   ],
   "source": [
    "courses = dict()\n",
    "courses['Braught'] = ['130', '256', '354']\n",
    "courses['Skalak'] = ['232', '356']\n",
    "courses['Siddiqui'] = ['132', '491']\n",
    "print(courses)"
   ]
  },
  {
   "cell_type": "markdown",
   "metadata": {},
   "source": [
    "__Q31:__ Draw a state diagram for the code above that illustrates the `courses` dictionary object.  Include a picture of your state diagram as you answer for this question."
   ]
  },
  {
   "cell_type": "markdown",
   "metadata": {},
   "source": [
    "![q31state](q31state.JPG)"
   ]
  },
  {
   "cell_type": "markdown",
   "metadata": {},
   "source": [
    "__Q32:__ Give a statement (or statements) that access the dictionary to display Prof. Braught's 200-level course."
   ]
  },
  {
   "cell_type": "code",
   "execution_count": 3,
   "metadata": {},
   "outputs": [
    {
     "data": {
      "text/plain": [
       "'256'"
      ]
     },
     "execution_count": 3,
     "metadata": {},
     "output_type": "execute_result"
    }
   ],
   "source": [
    "courses[\"Braught\"][1]"
   ]
  },
  {
   "cell_type": "markdown",
   "metadata": {},
   "source": [
    "__Q33:__ Give a statement or statements that change Prof. Siddiqui's 400-level course to be `492`.  Print out the dictionary to confirm that your statement had the intended effect."
   ]
  },
  {
   "cell_type": "code",
   "execution_count": 5,
   "metadata": {},
   "outputs": [
    {
     "name": "stdout",
     "output_type": "stream",
     "text": [
      "492\n"
     ]
    }
   ],
   "source": [
    "courses[\"Siddiqui\"][1] = \"492\"\n",
    "print(courses[\"Siddiqui\"][1])"
   ]
  },
  {
   "cell_type": "markdown",
   "metadata": {},
   "source": [
    "__Q34:__ Run the program below and explain why the two lines of output are the same."
   ]
  },
  {
   "cell_type": "code",
   "execution_count": 6,
   "metadata": {
    "deletable": false,
    "editable": false
   },
   "outputs": [
    {
     "name": "stdout",
     "output_type": "stream",
     "text": [
      "['314', '364']\n",
      "['314', '364']\n"
     ]
    }
   ],
   "source": [
    "jmac_courses = ['314', '378']\n",
    "\n",
    "courses['MacCormick'] = jmac_courses\n",
    "courses['MacCormick'][1] = '364'\n",
    "\n",
    "print(jmac_courses)\n",
    "print(courses['MacCormick'])"
   ]
  },
  {
   "cell_type": "markdown",
   "metadata": {},
   "source": [
    "The 3rd line of code above creates a key `MacCormick` in our courses dictionary and maps the key to the existing list ['314', '364']. Since this list already has the object name `jmac_courses` mapping to it (line 1), the 2 print( ) lines access and present identical values."
   ]
  },
  {
   "cell_type": "markdown",
   "metadata": {},
   "source": [
    "### A Thesaurus\n",
    "\n",
    "A thesaurus lists a number of different possible synonyms for each word that it contains. Thus, a thesaurus seem to be a natural application for a dictionary where a key maps to a list.  The next several questions will explore this application.\n",
    "\n",
    "You'll recall that in Class29-30 we used the `mthesaur.txt` file that contains 30,260 root words with a total of 2,520,264 synonyms. This file was created by Grady Ward and can be found on [his Project Gutenberg page](https://www.gutenberg.org/ebooks/author/1132).  \n",
    "\n",
    "Each line in this file begins with a *root word*. The root word is followed by a `,` and then a `,` delimited *list of synonyms*.  For example:\n",
    ">unstoppable,certain,fated,fateful,indefeasible,ineluctable,inescapable,inevasible,inevitable,inexorable,inflexible,irresistible,irrevocable,necessary,relentless,resistless,sure,sure as death,sure as fate,unavoidable,uncontrollable,undeflectable,unpreventable,unyielding\n",
    "\n",
    "Here the root word is `unstoppable` and the remaining words are synonyms (or synonymous phrases)."
   ]
  },
  {
   "cell_type": "markdown",
   "metadata": {},
   "source": [
    "__Q35:__ Write statements that open the `mthesaur.txt` file included in the `Class35-37` folder, read the first line and print, on one line, the root word and then, on the next line, the list of synonyms, then close the file.  Hint: use the `split` function with a `,` delimiter and then use `List` slices to get the root word and then the rest of the list (i.e. all the synonyms)."
   ]
  },
  {
   "cell_type": "code",
   "execution_count": 8,
   "metadata": {},
   "outputs": [
    {
     "name": "stdout",
     "output_type": "stream",
     "text": [
      "a cappella\n",
      "['abbandono', 'accrescendo', 'affettuoso', 'agilmente', 'agitato', 'amabile', 'amoroso', 'appassionatamente', 'appassionato', 'brillante', 'capriccioso', 'con affetto', 'con agilita', 'con agitazione', 'con amore', 'crescendo', 'decrescendo', 'diminuendo', 'dolce', 'forte', 'fortissimo', 'lamentabile', 'leggiero', 'morendo', 'parlando', 'pianissimo', 'piano', 'pizzicato', 'scherzando', 'scherzoso', 'sordo', 'sotto voce', 'spiccato', 'staccato', 'stretto', 'tremolando', 'tremoloso', 'trillando']\n"
     ]
    }
   ],
   "source": [
    "thes = open(\"mthesaur.txt\")\n",
    "line = thes.readline().rstrip(\"\\n\")\n",
    "words = line.split(\",\")\n",
    "print(words[0])\n",
    "print(words[1:])\n",
    "thes.close()"
   ]
  },
  {
   "cell_type": "markdown",
   "metadata": {},
   "source": [
    "__Q36:__ Write a function `build_thesaurus` that creates and returns a dictionary holding all of the words and synonyms from the `mthesaur.txt` file."
   ]
  },
  {
   "cell_type": "code",
   "execution_count": 2,
   "metadata": {},
   "outputs": [
    {
     "name": "stdout",
     "output_type": "stream",
     "text": [
      "['abbandono', 'accrescendo', 'affettuoso', 'agilmente', 'agitato', 'amabile', 'amoroso', 'appassionatamente', 'appassionato', 'brillante', 'capriccioso', 'con affetto', 'con agilita', 'con agitazione', 'con amore', 'crescendo', 'decrescendo', 'diminuendo', 'dolce', 'forte', 'fortissimo', 'lamentabile', 'leggiero', 'morendo', 'parlando', 'pianissimo', 'piano', 'pizzicato', 'scherzando', 'scherzoso', 'sordo', 'sotto voce', 'spiccato', 'staccato', 'stretto', 'tremolando', 'tremoloso', 'trillando']\n"
     ]
    }
   ],
   "source": [
    "def build_thesaurus(thesText):\n",
    "    thes = open(thesText)\n",
    "    thesaurus = {}\n",
    "    line = thes.readline().rstrip(\"\\n\")\n",
    "    while line:\n",
    "        words = line.split(\",\")\n",
    "        thesaurus[words[0]] = words[1:]\n",
    "        line = thes.readline().rstrip(\"\\n\")\n",
    "    thes.close()\n",
    "    return thesaurus\n",
    "\n",
    "myThes = \"mthesaur.txt\"\n",
    "thesDict = build_thesaurus(myThes)\n",
    "print(thesDict[\"a cappella\"])"
   ]
  },
  {
   "cell_type": "markdown",
   "metadata": {},
   "source": [
    "__Q37:__ Write a few automated tests to verify that your `build_thesaurus` function is working correctly.  Hint: Pick a few root words and for each, check that the list of synonyms contains a few of the synonyms."
   ]
  },
  {
   "cell_type": "code",
   "execution_count": 11,
   "metadata": {},
   "outputs": [
    {
     "name": "stdout",
     "output_type": "stream",
     "text": [
      "success!\n"
     ]
    }
   ],
   "source": [
    "assert \"forte\" in thesDict[\"a cappella\"], \"a cappella is not correct\"\n",
    "assert \"dive\" in thesDict[\"zoom\"], \"zoom is not correct\"\n",
    "assert \"soft\" not in thesDict[\"zoom\"], \"zoom is not correct\"\n",
    "assert \"pump\" in thesDict[\"interrogate\"], \"interrogate is not correct\"\n",
    "print(\"success!\")"
   ]
  },
  {
   "cell_type": "markdown",
   "metadata": {},
   "source": [
    "__Q38:__ Write a program that prompts the user to enter a sentence. The program then displays a new sentence by looking each word up in the thesaurus.  If the word appears in the thesaurus, then the word is replaced with a random synonym from the list of synonyms.  If the word does not appear in the thesaurus it remains unchanged.  The program then prints out the new sentence."
   ]
  },
  {
   "cell_type": "code",
   "execution_count": 10,
   "metadata": {},
   "outputs": [
    {
     "name": "stdout",
     "output_type": "stream",
     "text": [
      "Please enter a sentence to 'synonymize'. >> Go home indisputably!\n",
      "End family homestead indisputably!\n"
     ]
    }
   ],
   "source": [
    "from random import *\n",
    "uSent = input(\"Please enter a sentence to 'synonymize'. >> \")\n",
    "uSent = uSent.lower().strip()\n",
    "# Strip and save the final character of the user's string.\n",
    "# This SHOULD be the ending punctuation mark\n",
    "end = uSent[len(uSent) - 1]\n",
    "uSent = uSent[:len(uSent) - 1]\n",
    "\n",
    "uWords = uSent.split()\n",
    "keysList = thesDict.keys()\n",
    "for i in range (len(uWords)):\n",
    "    if uWords[i] in keysList:\n",
    "        syns = thesDict[uWords[i]]\n",
    "        uWords[i] = (choice(syns))\n",
    "\n",
    "synSent = \"\"\n",
    "for word in uWords:\n",
    "    synSent = synSent + word + \" \"\n",
    "synSent = synSent.rstrip() + end\n",
    "synSent = synSent[0].upper() + synSent[1:]\n",
    "print(synSent)  "
   ]
  },
  {
   "cell_type": "markdown",
   "metadata": {},
   "source": [
    "### Inverting Dictionaries\n",
    "\n",
    "Once you have a dictionary there are often interesting questions that can be answered by inverting the dictionary.  That is making the values the keys and vice versa.  Recalling that multiple keys might map to the same value implies that in the inverted dictionary the same key would have to map to multiple values.  To do this, the values in the inverted dictionary will be lists."
   ]
  },
  {
   "cell_type": "markdown",
   "metadata": {},
   "source": [
    "__Q39:__ Copy the `invert_dict` function from section 11.5 of the text into the cell below."
   ]
  },
  {
   "cell_type": "code",
   "execution_count": 8,
   "metadata": {},
   "outputs": [],
   "source": [
    "def invert_dict(d):\n",
    "    inverse = dict()\n",
    "    for key in d:\n",
    "        val = d[key]\n",
    "        if val not in inverse:\n",
    "            inverse[val] = [key]\n",
    "        else:\n",
    "            inverse[val].append(key)\n",
    "    return inverse"
   ]
  },
  {
   "cell_type": "markdown",
   "metadata": {},
   "source": [
    "__Q40:__ The zip code dictionary from __Q14__ mapped from a given zip code to its city and state.  More often what we want to do is find the zip code for a given city and state. Sort of like the [United States ZIP codes](https://codigo-postal.co/en-us/usa/) site.  An inversion of the zip code dictionary from __Q14__ would support this functionality.  Write a statement that creates a variable that refers to an inversion of the zip code dictionary from __Q14__."
   ]
  },
  {
   "cell_type": "code",
   "execution_count": null,
   "metadata": {},
   "outputs": [],
   "source": []
  },
  {
   "cell_type": "markdown",
   "metadata": {},
   "source": [
    "__Q41:__ Write statements that uses the inverted zip code dictionary from __Q40__ to allow a user to enter a city and a state (e.g. 'Carlisle, PA') and then print out the zip codes for that city and state.  If the city and state are not found a message to that effect should be displayed."
   ]
  },
  {
   "cell_type": "code",
   "execution_count": null,
   "metadata": {},
   "outputs": [],
   "source": []
  },
  {
   "cell_type": "markdown",
   "metadata": {},
   "source": [
    "__Q42:__ Interesting questions can also be asked about an inverted version of the dictionary of counters for Gadsby that was created in __Q29__.  That dictionary maps from a character to its percentage of all characters in the text.  An inverted dictionary would map from percentage to the character(s).  This would allow us to sort the dictionary and find the most frequent or 10 most frequent characters in the text.  Write a statement that creates a variable that refers to an inversion of the Gadsby character count dictionary from __Q29__."
   ]
  },
  {
   "cell_type": "code",
   "execution_count": null,
   "metadata": {},
   "outputs": [],
   "source": []
  },
  {
   "cell_type": "markdown",
   "metadata": {},
   "source": [
    "__Q43:__ Write a program that uses the inverted Gadsby character dictionary to display a table of the to 10 most frequent character in the novel."
   ]
  },
  {
   "cell_type": "code",
   "execution_count": null,
   "metadata": {},
   "outputs": [],
   "source": []
  },
  {
   "cell_type": "markdown",
   "metadata": {},
   "source": [
    "__Q44:__ How do the character percentages in Wright's Gadsby compare to [typical character percentages in the English language](https://stancarey.wordpress.com/2013/01/07/etaoin-srhldcu-or-what-are-the-most-common-words-and-letters-in-english/)?"
   ]
  },
  {
   "cell_type": "markdown",
   "metadata": {},
   "source": []
  },
  {
   "cell_type": "markdown",
   "metadata": {},
   "source": [
    "### Optional Challenge"
   ]
  },
  {
   "cell_type": "markdown",
   "metadata": {},
   "source": [
    "__Q45:__ Create a program that translates a number into a specified language.  The program should provide the user with a list of languages from which to choose (at least 4).  The program should then prompt the user for a number 1...10.  The program should then print out the word for the number in the specified language.  The program should be easily extended to include additional languages.  Hint: Use a dictionary where the values are other dictionaries.  "
   ]
  }
 ],
 "metadata": {
  "kernelspec": {
   "display_name": "Python 3",
   "language": "python",
   "name": "python3"
  },
  "language_info": {
   "codemirror_mode": {
    "name": "ipython",
    "version": 3
   },
   "file_extension": ".py",
   "mimetype": "text/x-python",
   "name": "python",
   "nbconvert_exporter": "python",
   "pygments_lexer": "ipython3",
   "version": "3.7.3"
  }
 },
 "nbformat": 4,
 "nbformat_minor": 2
}
