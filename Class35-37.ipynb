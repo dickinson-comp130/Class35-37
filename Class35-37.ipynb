{
 "cells": [
  {
   "cell_type": "markdown",
   "metadata": {},
   "source": [
    "# Class 35-37 - Dictionaries  \n",
    "**COMP130 - Introduction to Computing**  \n",
    "**Dickinson College**  "
   ]
  },
  {
   "cell_type": "markdown",
   "metadata": {},
   "source": [
    "### Names:"
   ]
  },
  {
   "cell_type": "markdown",
   "metadata": {},
   "source": []
  },
  {
   "cell_type": "code",
   "execution_count": null,
   "metadata": {},
   "outputs": [],
   "source": []
  },
  {
   "attachments": {},
   "cell_type": "markdown",
   "metadata": {},
   "source": [
    "- unique keys \n",
    "  - replace a key and ask\n",
    "- multiple keys to same value\n",
    "  - add one and ask\n",
    "- how to remove a key:value mapping from the dictionary? (research)\n",
    "- how many key, value pairs in a dict?\n",
    "\n",
    "- from examples\n",
    "  - print all countries \n",
    "  - print all cities in zips\n",
    "\n",
    "- give unique words from a list\n",
    "\n",
    "- Work with zips\n",
    "  - requires review of file input and split\n",
    "  - map zip to city\n",
    "  \n",
    "- Work with Gadsby\n",
    "  - skip header lines\n",
    "  - file = open('data.txt')\n",
    "    text = file.read() # Reads entire file...\n",
    "- letter frequency\n",
    "  - check e!\n",
    "\n",
    "Extra: Need to clean the text to get it to work well\n",
    "- Work with words.txt\n",
    "  - check words from Gadsby?"
   ]
  },
  {
   "cell_type": "markdown",
   "metadata": {},
   "source": [
    "![Stop sign](stop.png)\n",
    "End of Class 35 material."
   ]
  },
  {
   "cell_type": "code",
   "execution_count": null,
   "metadata": {},
   "outputs": [],
   "source": []
  },
  {
   "cell_type": "code",
   "execution_count": null,
   "metadata": {},
   "outputs": [],
   "source": []
  },
  {
   "cell_type": "markdown",
   "metadata": {},
   "source": [
    "\n",
    "- map / filter / reduce on values in a map based on value, based on key\n",
    "\n",
    "  - Map:\n",
    "    - convert frequency counts to percentages of all letters.\n",
    "  - Filter: given value find key or keys (reverse lookup)\n",
    "    - get a zip given city - different than leaders example because there may be more than one...\n",
    "    - get lowest value zip code for a city...\n",
    "    - All zip codes for a city - return list (similar to example.. but different)\n",
    "    - All letters with a given a frequency\n",
    "      - display in sorted order\n",
    "  - Reduce: frequency analysis of letters - useful for Cesar cypher cracking\n",
    "    - find most frequent letter\n",
    "    - total number of letters"
   ]
  },
  {
   "cell_type": "markdown",
   "metadata": {},
   "source": [
    "![Stop sign](stop.png)\n",
    "End of Class 36 material."
   ]
  },
  {
   "cell_type": "code",
   "execution_count": null,
   "metadata": {},
   "outputs": [],
   "source": []
  },
  {
   "attachments": {},
   "cell_type": "markdown",
   "metadata": {},
   "source": [
    "- make map with value as list for ????\n",
    "  - access particular value\n",
    "  - change particular value\n",
    "  - draw an object diagram\n",
    "  - play with aliases... \n",
    "  \n",
    "- make map with value as dictionary for ???\n",
    "  - access particular value\n",
    "  - change particular value\n",
    "\n",
    "- reverse a map\n",
    "  - site like:  https://codigo-postal.co/en-us/usa/\n",
    "  - value becomes key with list of all keys that used to map to the value.\n",
    "     - all zips for a given city.\n",
    "     - city with the most zip codes?\n",
    "     \n",
    "Reverse the dictionary… make value the key with a list as the value.\n",
    "  - get top 10 most frequent letters\n",
    "\n",
    "Synonym file – make dictionary\n",
    "  - rewrite a paragraph from a file into another file…\n",
    "  - replacing words with random synonyms\n",
    "\n",
    "Dictionary as value? \n",
    " - number translator… given number and language return word – do for 5 languages.\n",
    "  - give csv file?\n",
    "\n",
    "Maybe do something with memo?\n",
    " - save results of sentiment analysis for a word."
   ]
  }
 ],
 "metadata": {
  "kernelspec": {
   "display_name": "Python 3",
   "language": "python",
   "name": "python3"
  },
  "language_info": {
   "codemirror_mode": {
    "name": "ipython",
    "version": 3
   },
   "file_extension": ".py",
   "mimetype": "text/x-python",
   "name": "python",
   "nbconvert_exporter": "python",
   "pygments_lexer": "ipython3",
   "version": "3.7.3"
  }
 },
 "nbformat": 4,
 "nbformat_minor": 2
}
